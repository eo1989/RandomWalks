{
 "cells": [
  {
   "cell_type": "markdown",
   "id": "powered-newport",
   "metadata": {},
   "source": [
    "# Testing Seasonality with Randomeness\n",
    "\n",
    "We investigate the seasonality of the EWS ETF, following on from the work of [Mitchell Rosenthal](https://twitter.com/M1tchRosenthal/status/1375149026220371970). \n"
   ]
  },
  {
   "cell_type": "code",
   "execution_count": 1,
   "id": "educated-weapon",
   "metadata": {},
   "outputs": [],
   "source": [
    "import numpy as np\n",
    "import pandas as pd\n",
    "import matplotlib.pyplot as plt\n",
    "\n",
    "import yfinance as yf"
   ]
  },
  {
   "cell_type": "markdown",
   "id": "naughty-index",
   "metadata": {},
   "source": [
    "## Reproducing original results\n",
    "\n",
    "Mitch observed that 89% of the time, April had a positive return. We first attempt to replicate this."
   ]
  },
  {
   "cell_type": "code",
   "execution_count": 2,
   "id": "dental-wrapping",
   "metadata": {},
   "outputs": [
    {
     "name": "stdout",
     "output_type": "stream",
     "text": [
      "[*********************100%***********************]  1 of 1 completed\n"
     ]
    },
    {
     "data": {
      "text/plain": [
       "Date\n",
       "1996-03-18    11.301652\n",
       "1996-03-19    11.414671\n",
       "1996-03-20    11.301652\n",
       "1996-03-21    11.301652\n",
       "1996-03-22    11.527687\n",
       "Name: Adj Close, dtype: float64"
      ]
     },
     "execution_count": 2,
     "metadata": {},
     "output_type": "execute_result"
    }
   ],
   "source": [
    "df = yf.download(\"EWS\")[\"Adj Close\"]\n",
    "df.head()"
   ]
  },
  {
   "cell_type": "code",
   "execution_count": 3,
   "id": "certified-coalition",
   "metadata": {},
   "outputs": [
    {
     "data": {
      "image/png": "[encoded data removed]",
      "text/plain": [
       "<Figure size 432x288 with 1 Axes>"
      ]
     },
     "metadata": {
      "needs_background": "light"
     },
     "output_type": "display_data"
    }
   ],
   "source": [
    "df.plot();"
   ]
  },
  {
   "cell_type": "code",
   "execution_count": 4,
   "id": "developed-horizontal",
   "metadata": {},
   "outputs": [],
   "source": [
    "# Reproduce original results\n",
    "def compute_pct_up_months(df):\n",
    "    # df is a dataframe of daily close prices\n",
    "    df_mth = df.resample(\"M\").last()\n",
    "    month_up = df_mth.pct_change().dropna() > 0\n",
    "    pct_up = month_up.groupby(month_up.index.month).mean()\n",
    "    return pct_up"
   ]
  },
  {
   "cell_type": "code",
   "execution_count": 5,
   "id": "automated-broadway",
   "metadata": {},
   "outputs": [
    {
     "data": {
      "text/plain": [
       "Date\n",
       "1     0.520000\n",
       "2     0.440000\n",
       "3     0.640000\n",
       "4     0.807692\n",
       "5     0.360000\n",
       "6     0.560000\n",
       "7     0.560000\n",
       "8     0.320000\n",
       "9     0.560000\n",
       "10    0.560000\n",
       "11    0.560000\n",
       "12    0.680000\n",
       "Name: Adj Close, dtype: float64"
      ]
     },
     "execution_count": 5,
     "metadata": {},
     "output_type": "execute_result"
    }
   ],
   "source": [
    "pct_up = compute_pct_up_months(df)\n",
    "pct_up"
   ]
  },
  {
   "cell_type": "code",
   "execution_count": 6,
   "id": "trained-pontiac",
   "metadata": {},
   "outputs": [
    {
     "data": {
      "image/png": "[encoded data removed]",
      "text/plain": [
       "<Figure size 432x288 with 1 Axes>"
      ]
     },
     "metadata": {
      "needs_background": "light"
     },
     "output_type": "display_data"
    }
   ],
   "source": [
    "pct_up.plot.bar(xlabel=\"month\", ylabel=\"pct_up\");"
   ]
  },
  {
   "cell_type": "markdown",
   "id": "institutional-advocacy",
   "metadata": {},
   "source": [
    "Although our numbers are slightly different (expected given a slightly different methodology and more data), the anomaly is replicated."
   ]
  },
  {
   "cell_type": "markdown",
   "id": "covered-magnet",
   "metadata": {},
   "source": [
    "## Random data\n",
    "\n",
    "In this section we will compute different paths of history by reshuffling the dataframe. This is a simple way of generating random data with the same mean/volatility over the entire sample period (though obviously different for rolling windows).\n",
    "\n",
    "This helps us understand if the anomaly is \"statistically significant\". "
   ]
  },
  {
   "cell_type": "code",
   "execution_count": 7,
   "id": "acceptable-baker",
   "metadata": {},
   "outputs": [],
   "source": [
    "# The value whose significance we are trying to evaluate\n",
    "threshold_pct = 0.8"
   ]
  },
  {
   "cell_type": "code",
   "execution_count": 8,
   "id": "surprising-organization",
   "metadata": {},
   "outputs": [
    {
     "data": {
      "text/plain": [
       "Date\n",
       "1996-03-19    0.010000\n",
       "1996-03-20   -0.009901\n",
       "1996-03-21    0.000000\n",
       "1996-03-22    0.020000\n",
       "1996-03-25    0.009804\n",
       "                ...   \n",
       "2021-04-26    0.006706\n",
       "2021-04-27    0.001249\n",
       "2021-04-28    0.004158\n",
       "2021-04-29   -0.003727\n",
       "2021-04-30   -0.004987\n",
       "Name: Adj Close, Length: 6323, dtype: float64"
      ]
     },
     "execution_count": 8,
     "metadata": {},
     "output_type": "execute_result"
    }
   ],
   "source": [
    "rets = df.pct_change().dropna()\n",
    "rets"
   ]
  },
  {
   "cell_type": "code",
   "execution_count": 9,
   "id": "amino-kruger",
   "metadata": {},
   "outputs": [],
   "source": [
    "def generate_path(rets):\n",
    "    ret_shuffled = rets.sample(frac=1)\n",
    "    ret_shuffled.index = rets.index\n",
    "    px_new = (1+ret_shuffled).cumprod()\n",
    "    return px_new"
   ]
  },
  {
   "cell_type": "code",
   "execution_count": 10,
   "id": "aquatic-measure",
   "metadata": {},
   "outputs": [
    {
     "data": {
      "image/png": "[encoded data removed]",
      "text/plain": [
       "<Figure size 432x288 with 1 Axes>"
      ]
     },
     "metadata": {
      "needs_background": "light"
     },
     "output_type": "display_data"
    }
   ],
   "source": [
    "px_new = generate_path(rets)\n",
    "px_new.plot();"
   ]
  },
  {
   "cell_type": "code",
   "execution_count": 11,
   "id": "recent-harrison",
   "metadata": {},
   "outputs": [
    {
     "data": {
      "text/plain": [
       "Date\n",
       "1     0.520000\n",
       "2     0.520000\n",
       "3     0.440000\n",
       "4     0.538462\n",
       "5     0.520000\n",
       "6     0.480000\n",
       "7     0.640000\n",
       "8     0.520000\n",
       "9     0.680000\n",
       "10    0.640000\n",
       "11    0.360000\n",
       "12    0.560000\n",
       "Name: Adj Close, dtype: float64"
      ]
     },
     "execution_count": 11,
     "metadata": {},
     "output_type": "execute_result"
    }
   ],
   "source": [
    "px_new = generate_path(rets)\n",
    "pct_up = compute_pct_up_months(px_new)\n",
    "pct_up"
   ]
  },
  {
   "cell_type": "code",
   "execution_count": 12,
   "id": "minute-ground",
   "metadata": {},
   "outputs": [],
   "source": [
    "NUM_PATHS = 10000\n",
    "paths = []\n",
    "\n",
    "for i in range(NUM_PATHS):\n",
    "    px = generate_path(rets).rename(i)\n",
    "    paths.append(px)\n",
    "paths_df = pd.concat(paths, axis=1)\n",
    "\n",
    "max_up = compute_pct_up_months(paths_df).max()"
   ]
  },
  {
   "cell_type": "code",
   "execution_count": 13,
   "id": "following-documentary",
   "metadata": {},
   "outputs": [
    {
     "data": {
      "image/png": "[encoded data removed]",
      "text/plain": [
       "<Figure size 432x288 with 1 Axes>"
      ]
     },
     "metadata": {
      "needs_background": "light"
     },
     "output_type": "display_data"
    }
   ],
   "source": [
    "fig, ax = plt.subplots()\n",
    "max_up.hist(ax=ax, grid=False);\n",
    "ax.axvline(threshold_pct, color=\"r\", linestyle=\"--\");\n",
    "ax.set_xlabel(\"Highest return seasonality\")\n",
    "ax.set_ylabel(\"Number of paths\");"
   ]
  },
  {
   "cell_type": "code",
   "execution_count": 14,
   "id": "harmful-poetry",
   "metadata": {},
   "outputs": [
    {
     "data": {
      "text/plain": [
       "0.0072"
      ]
     },
     "execution_count": 14,
     "metadata": {},
     "output_type": "execute_result"
    }
   ],
   "source": [
    "p_val = (max_up > threshold_pct).sum() / NUM_PATHS\n",
    "p_val"
   ]
  },
  {
   "cell_type": "code",
   "execution_count": null,
   "id": "seventh-indiana",
   "metadata": {},
   "outputs": [],
   "source": []
  }
 ],
 "metadata": {
  "kernelspec": {
   "display_name": "Python 3",
   "language": "python",
   "name": "python3"
  },
  "language_info": {
   "codemirror_mode": {
    "name": "ipython",
    "version": 3
   },
   "file_extension": ".py",
   "mimetype": "text/x-python",
   "name": "python",
   "nbconvert_exporter": "python",
   "pygments_lexer": "ipython3",
   "version": "3.8.6"
  }
 },
 "nbformat": 4,
 "nbformat_minor": 5
}
